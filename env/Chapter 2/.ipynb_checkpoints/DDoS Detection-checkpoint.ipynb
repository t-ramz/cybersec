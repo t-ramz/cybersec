{
 "cells": [
  {
   "cell_type": "code",
   "execution_count": 28,
   "metadata": {},
   "outputs": [],
   "source": [
    "import pandas as p\n",
    "import seaborn as sb\n",
    "import numpy as n\n",
    "%matplotlib inline\n",
    "import matplotlib.pyplot as pl"
   ]
  },
  {
   "cell_type": "code",
   "execution_count": 29,
   "metadata": {},
   "outputs": [
    {
     "data": {
      "text/html": [
       "<div>\n",
       "<style scoped>\n",
       "    .dataframe tbody tr th:only-of-type {\n",
       "        vertical-align: middle;\n",
       "    }\n",
       "\n",
       "    .dataframe tbody tr th {\n",
       "        vertical-align: top;\n",
       "    }\n",
       "\n",
       "    .dataframe thead th {\n",
       "        text-align: right;\n",
       "    }\n",
       "</style>\n",
       "<table border=\"1\" class=\"dataframe\">\n",
       "  <thead>\n",
       "    <tr style=\"text-align: right;\">\n",
       "      <th></th>\n",
       "      <th>Time</th>\n",
       "      <th>Source</th>\n",
       "      <th>Destination</th>\n",
       "      <th>Volume</th>\n",
       "      <th>Protocol</th>\n",
       "    </tr>\n",
       "    <tr>\n",
       "      <th>Sl Num</th>\n",
       "      <th></th>\n",
       "      <th></th>\n",
       "      <th></th>\n",
       "      <th></th>\n",
       "      <th></th>\n",
       "    </tr>\n",
       "  </thead>\n",
       "  <tbody>\n",
       "    <tr>\n",
       "      <th>1</th>\n",
       "      <td>1521039662</td>\n",
       "      <td>192.168.0.1</td>\n",
       "      <td>igmp.mcast.net</td>\n",
       "      <td>5</td>\n",
       "      <td>IGMP</td>\n",
       "    </tr>\n",
       "    <tr>\n",
       "      <th>2</th>\n",
       "      <td>1521039663</td>\n",
       "      <td>192.168.0.2</td>\n",
       "      <td>239.255.255.250</td>\n",
       "      <td>1</td>\n",
       "      <td>IGMP</td>\n",
       "    </tr>\n",
       "    <tr>\n",
       "      <th>3</th>\n",
       "      <td>1521039666</td>\n",
       "      <td>192.168.0.2</td>\n",
       "      <td>192.168.10.1</td>\n",
       "      <td>2</td>\n",
       "      <td>UDP</td>\n",
       "    </tr>\n",
       "    <tr>\n",
       "      <th>4</th>\n",
       "      <td>1521039669</td>\n",
       "      <td>192.168.10.2</td>\n",
       "      <td>192.168.0.8</td>\n",
       "      <td>20</td>\n",
       "      <td>DNS</td>\n",
       "    </tr>\n",
       "    <tr>\n",
       "      <th>5</th>\n",
       "      <td>1521039671</td>\n",
       "      <td>192.168.10.2</td>\n",
       "      <td>192.168.0.8</td>\n",
       "      <td>1</td>\n",
       "      <td>TCP</td>\n",
       "    </tr>\n",
       "    <tr>\n",
       "      <th>6</th>\n",
       "      <td>1521039673</td>\n",
       "      <td>192.168.0.1</td>\n",
       "      <td>192.168.0.2</td>\n",
       "      <td>1</td>\n",
       "      <td>TCP</td>\n",
       "    </tr>\n",
       "    <tr>\n",
       "      <th>7</th>\n",
       "      <td>1521039674</td>\n",
       "      <td>192.168.0.2</td>\n",
       "      <td>192.168.0.1</td>\n",
       "      <td>1</td>\n",
       "      <td>TCP</td>\n",
       "    </tr>\n",
       "    <tr>\n",
       "      <th>8</th>\n",
       "      <td>1521039675</td>\n",
       "      <td>192.168.0.1</td>\n",
       "      <td>192.168.0.2</td>\n",
       "      <td>5</td>\n",
       "      <td>DNS</td>\n",
       "    </tr>\n",
       "    <tr>\n",
       "      <th>9</th>\n",
       "      <td>1521039676</td>\n",
       "      <td>192.168.0.2</td>\n",
       "      <td>192.168.10.8</td>\n",
       "      <td>2</td>\n",
       "      <td>DNS</td>\n",
       "    </tr>\n",
       "  </tbody>\n",
       "</table>\n",
       "</div>"
      ],
      "text/plain": [
       "              Time        Source      Destination  Volume Protocol\n",
       "Sl Num                                                            \n",
       "1       1521039662   192.168.0.1   igmp.mcast.net       5     IGMP\n",
       "2       1521039663   192.168.0.2  239.255.255.250       1     IGMP\n",
       "3       1521039666   192.168.0.2     192.168.10.1       2      UDP\n",
       "4       1521039669  192.168.10.2      192.168.0.8      20      DNS\n",
       "5       1521039671  192.168.10.2      192.168.0.8       1      TCP\n",
       "6       1521039673   192.168.0.1      192.168.0.2       1      TCP\n",
       "7       1521039674   192.168.0.2      192.168.0.1       1      TCP\n",
       "8       1521039675   192.168.0.1      192.168.0.2       5      DNS\n",
       "9       1521039676   192.168.0.2     192.168.10.8       2      DNS"
      ]
     },
     "execution_count": 29,
     "metadata": {},
     "output_type": "execute_result"
    }
   ],
   "source": [
    "pdata_frame = p.read_csv(\"DDoS_Sample.csv\", sep=',', index_col =\n",
    "'Sl Num', names = [\"Sl Num\", \"Time\", \"Source\",\n",
    "\"Destination\",\"Volume\", \"Protocol\"])\n",
    "pdata_frame.head(n=9)"
   ]
  },
  {
   "cell_type": "code",
   "execution_count": 30,
   "metadata": {},
   "outputs": [
    {
     "data": {
      "text/plain": [
       "'2018-03-18 15:47:58'"
      ]
     },
     "execution_count": 30,
     "metadata": {},
     "output_type": "execute_result"
    }
   ],
   "source": [
    "import time\n",
    "time.strftime('%Y-%m-%d %H:%M:%S', time.localtime(1521388078))"
   ]
  },
  {
   "cell_type": "code",
   "execution_count": 31,
   "metadata": {},
   "outputs": [],
   "source": [
    "pdata_frame['Newtime'] = pdata_frame['Time'].apply(lambda x: \n",
    "                                                  time.strftime('%Y-%m-%d %H:%M:%S', time.localtime(float(x))))"
   ]
  },
  {
   "cell_type": "code",
   "execution_count": 34,
   "metadata": {},
   "outputs": [
    {
     "data": {
      "image/png": "[encoded data removed]",
      "text/plain": [
       "<Figure size 432x288 with 1 Axes>"
      ]
     },
     "metadata": {
      "needs_background": "light"
     },
     "output_type": "display_data"
    },
    {
     "name": "stdout",
     "output_type": "stream",
     "text": [
      "Sl Num\n",
      "1    2018-03-14 15:01:02\n",
      "2    2018-03-14 15:01:03\n",
      "3    2018-03-14 15:01:06\n",
      "4    2018-03-14 15:01:09\n",
      "5    2018-03-14 15:01:11\n",
      "6    2018-03-14 15:01:13\n",
      "7    2018-03-14 15:01:14\n",
      "8    2018-03-14 15:01:15\n",
      "9    2018-03-14 15:01:16\n",
      "Name: Newtime, dtype: object\n"
     ]
    }
   ],
   "source": [
    "pl.scatter(pdata_frame['Newtime'], pdata_frame['Volume'])\n",
    "pl.show()\n",
    "print(pdata_frame['Newtime'])"
   ]
  },
  {
   "cell_type": "code",
   "execution_count": 35,
   "metadata": {},
   "outputs": [
    {
     "name": "stdout",
     "output_type": "stream",
     "text": [
      "Sl Num\n",
      "1    [2018-03-14 15, 01, 02]\n",
      "2    [2018-03-14 15, 01, 03]\n",
      "3    [2018-03-14 15, 01, 06]\n",
      "4    [2018-03-14 15, 01, 09]\n",
      "5    [2018-03-14 15, 01, 11]\n",
      "6    [2018-03-14 15, 01, 13]\n",
      "7    [2018-03-14 15, 01, 14]\n",
      "8    [2018-03-14 15, 01, 15]\n",
      "9    [2018-03-14 15, 01, 16]\n",
      "Name: Newtime, dtype: object\n"
     ]
    }
   ],
   "source": [
    "# Feauture computation\n",
    "_time = pdata_frame['Newtime']\n",
    "edited_time = []\n",
    "# for row in _time.index:\n",
    "arr = _time.str.split(':') # generate new array based\n",
    "# for i in _time.index:\n",
    "#     trunc_time = str(arr[i][0]) + str(arr[i][1])\n",
    "#     edited_time.append(trunc_time)\n",
    "# edited_time\n",
    "# after some thinking it is clear that the small sample provided in\n",
    "# the book is insufficent to gather useful data\n",
    "# this is mostly due to the 9 lines being within the same minute"
   ]
  },
  {
   "cell_type": "code",
   "execution_count": null,
   "metadata": {},
   "outputs": [],
   "source": []
  }
 ],
 "metadata": {
  "kernelspec": {
   "display_name": "Python 3",
   "language": "python",
   "name": "python3"
  },
  "language_info": {
   "codemirror_mode": {
    "name": "ipython",
    "version": 3
   },
   "file_extension": ".py",
   "mimetype": "text/x-python",
   "name": "python",
   "nbconvert_exporter": "python",
   "pygments_lexer": "ipython3",
   "version": "3.8.6"
  }
 },
 "nbformat": 4,
 "nbformat_minor": 4
}
