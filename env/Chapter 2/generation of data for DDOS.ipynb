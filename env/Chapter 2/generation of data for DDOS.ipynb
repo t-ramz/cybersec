{
 "cells": [
  {
   "cell_type": "code",
   "execution_count": 4,
   "metadata": {},
   "outputs": [],
   "source": [
    "# IP address generation found at https://stackoverflow.com/questions/21014618/python-randomly-generated-ip-address-as-string\n",
    "# import time\n",
    "import random\n",
    "import socket\n",
    "import struct\n",
    "INDEX_START = 1\n",
    "MAX = 50\n",
    "protocol = [\"IGMP\", \"UDP\", \"TCP\", \"DNS\"]\n",
    "myData = []\n",
    "def genIP(source=True):\n",
    "    myIntIP = random.randint(1, 0xffffffff) \n",
    "    if(source):\n",
    "        myIntIP = myIntIP | 0xffff0000\n",
    "        myIntIP = myIntIP & 0xc0a8ffff # apply mask for 192.168.x.x\n",
    "    myIP = socket.inet_ntoa(struct.pack('>I', myIntIP)) # generate random IP addresses\n",
    "    return myIP\n",
    "for i in range(INDEX_START, MAX):\n",
    "#     myTime = int(time.time() - random.randint(29000000, 79000000)) # generate a time from about a year ago to the time the book was written\n",
    "    # 604801, 615600 or 20, 604800\n",
    "    myTime = 1521039662 + random.randint(604801, 615600) # generate time between 20s and 7d after time in book\n",
    "    mySIP = genIP()\n",
    "    myDIP = genIP(source=False)\n",
    "    myVolume = random.randint(20, 250) #1, 25\n",
    "    myProtocol = protocol[random.randint(0, 3)]\n",
    "    myData.append(str(i) + \",\" + str(myTime) + \",\" + mySIP + \",\" + \n",
    "                 myDIP + \",\" + str(myVolume) + \",\" + myProtocol)\n",
    "myFile = open(\"DDoS_Sample.csv\", \"w+\")\n",
    "for i in range(0, MAX - INDEX_START):\n",
    "    myFile.write(\"\\n\" + myData[i])\n",
    "myFile.close()"
   ]
  },
  {
   "cell_type": "code",
   "execution_count": null,
   "metadata": {},
   "outputs": [],
   "source": []
  },
  {
   "cell_type": "code",
   "execution_count": null,
   "metadata": {},
   "outputs": [],
   "source": []
  },
  {
   "cell_type": "code",
   "execution_count": null,
   "metadata": {},
   "outputs": [],
   "source": []
  }
 ],
 "metadata": {
  "kernelspec": {
   "display_name": "Python 3",
   "language": "python",
   "name": "python3"
  },
  "language_info": {
   "codemirror_mode": {
    "name": "ipython",
    "version": 3
   },
   "file_extension": ".py",
   "mimetype": "text/x-python",
   "name": "python",
   "nbconvert_exporter": "python",
   "pygments_lexer": "ipython3",
   "version": "3.8.6"
  }
 },
 "nbformat": 4,
 "nbformat_minor": 4
}
